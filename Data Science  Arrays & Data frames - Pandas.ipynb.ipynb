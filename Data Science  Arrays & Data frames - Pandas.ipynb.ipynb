{
 "cells": [
  {
   "cell_type": "markdown",
   "id": "cab588f9-3033-4564-9b99-b3acd2949038",
   "metadata": {},
   "source": [
    "# Pandas"
   ]
  },
  {
   "cell_type": "markdown",
   "id": "1a2f0230-b5f6-45c9-ad38-80d58c126c3b",
   "metadata": {},
   "source": [
    "## Pandas Series"
   ]
  },
  {
   "cell_type": "markdown",
   "id": "2196f555-ab2c-432d-a3ec-2231f9c1277c",
   "metadata": {},
   "source": [
    "## Create a Pandas Series"
   ]
  },
  {
   "cell_type": "code",
   "execution_count": 4,
   "id": "302c0045-9188-4ba6-b998-0ea1d3ecc2eb",
   "metadata": {},
   "outputs": [
    {
     "name": "stdout",
     "output_type": "stream",
     "text": [
      "[10, 20, 30, 40, 50]\n",
      "0    10\n",
      "1    20\n",
      "2    30\n",
      "3    40\n",
      "4    50\n",
      "dtype: int64\n"
     ]
    }
   ],
   "source": [
    "import pandas as pd\n",
    "\n",
    "# create a list\n",
    "data = [10, 20, 30, 40, 50]\n",
    "print(data)\n",
    "# create a series from the list\n",
    "my_series = pd.Series(data)\n",
    "\n",
    "print(my_series)"
   ]
  },
  {
   "cell_type": "markdown",
   "id": "7e3a3e8b-a555-4179-a2e1-a38cd1d84e61",
   "metadata": {},
   "source": [
    "## Labels"
   ]
  },
  {
   "cell_type": "code",
   "execution_count": 7,
   "id": "bad893f4-1ff4-419c-ad0e-4529aaf50b5b",
   "metadata": {},
   "outputs": [
    {
     "name": "stdout",
     "output_type": "stream",
     "text": [
      "0    10\n",
      "1    20\n",
      "2    30\n",
      "3    40\n",
      "4    50\n",
      "dtype: int64\n",
      "30\n"
     ]
    }
   ],
   "source": [
    "import pandas as pd\n",
    "\n",
    "# create a list\n",
    "data = [10, 20, 30, 40, 50]\n",
    "\n",
    "# create a series from the list\n",
    "my_series = pd.Series(data)\n",
    "print(my_series )\n",
    "# display third value in the series\n",
    "print(my_series[2])"
   ]
  },
  {
   "cell_type": "code",
   "execution_count": 9,
   "id": "f873aa77-691a-467e-9cf0-47be82c8faa8",
   "metadata": {},
   "outputs": [
    {
     "name": "stdout",
     "output_type": "stream",
     "text": [
      "x    1\n",
      "y    3\n",
      "z    5\n",
      "dtype: int64\n",
      "1\n"
     ]
    }
   ],
   "source": [
    "import pandas as pd \n",
    "\n",
    "# create a list\n",
    "a = [1, 3, 5]\n",
    "\n",
    "# create a series and specify labels\n",
    "my_series = pd.Series(a, index = [\"x\", \"y\", \"z\"])\n",
    "\n",
    "print(my_series)\n",
    "print(my_series['x'])"
   ]
  },
  {
   "cell_type": "code",
   "execution_count": 11,
   "id": "8c6cadcb-097c-4068-9c29-71134af8e6a0",
   "metadata": {},
   "outputs": [
    {
     "name": "stdout",
     "output_type": "stream",
     "text": [
      "3\n"
     ]
    }
   ],
   "source": [
    "import pandas as pd \n",
    "\n",
    "# create a list\n",
    "a = [1, 3, 5]\n",
    "\n",
    "# create a series and specify labels\n",
    "my_series = pd.Series(a, index = [\"x\", \"y\", \"z\"])\n",
    "\n",
    "# display the value with label y\n",
    "print(my_series[\"y\"])"
   ]
  },
  {
   "cell_type": "markdown",
   "id": "5373de4c-4544-4f9a-853a-53d7a31526ed",
   "metadata": {},
   "source": [
    "## Create Series From a Python Dictionary "
   ]
  },
  {
   "cell_type": "code",
   "execution_count": 14,
   "id": "fdca178b-7109-451c-a119-3ef2a7c755e0",
   "metadata": {},
   "outputs": [
    {
     "name": "stdout",
     "output_type": "stream",
     "text": [
      "Semester1    3.25\n",
      "Semester2    3.28\n",
      "Semester3    3.75\n",
      "dtype: float64\n",
      "3.25\n"
     ]
    }
   ],
   "source": [
    "import pandas as pd\n",
    "\n",
    "# create a dictionary\n",
    "grades = {\"Semester1\": 3.25, \"Semester2\": 3.28, \"Semester3\": 3.75}\n",
    "\n",
    "# create a series from the dictionary\n",
    "my_series = pd.Series(grades)\n",
    "\n",
    "# display the series\n",
    "print(my_series)\n",
    "print(my_series[\"Semester1\"]) "
   ]
  },
  {
   "cell_type": "code",
   "execution_count": 16,
   "id": "61e42d3b-fed1-43ee-9055-9a32503a350d",
   "metadata": {},
   "outputs": [
    {
     "name": "stdout",
     "output_type": "stream",
     "text": [
      "Semester1    3.25\n",
      "Semester2    3.28\n",
      "dtype: float64\n"
     ]
    }
   ],
   "source": [
    "import pandas as pd\n",
    "\n",
    "# create a dictionary\n",
    "grades = {\"Semester1\": 3.25, \"Semester2\": 3.28, \"Semester3\": 3.75}\n",
    "\n",
    "# select specific dictionary items using index argument\n",
    "my_series = pd.Series(grades, index = [\"Semester1\", \"Semester2\"])\n",
    "\n",
    "# display the series\n",
    "print(my_series)"
   ]
  },
  {
   "cell_type": "markdown",
   "id": "8da4ce14-c47a-4e6a-8d7b-ce2c7be27497",
   "metadata": {},
   "source": [
    "## Pandas DataFrame "
   ]
  },
  {
   "cell_type": "markdown",
   "id": "e401030f-fbd0-4b0d-94d8-96c022ee6aad",
   "metadata": {},
   "source": [
    "### Pandas DataFrame Using Python Dictionary "
   ]
  },
  {
   "cell_type": "code",
   "execution_count": 20,
   "id": "1c51f943-15a6-4eb8-9b1f-b7528b75a9a8",
   "metadata": {},
   "outputs": [
    {
     "name": "stdout",
     "output_type": "stream",
     "text": [
      "    Name  Age      City\n",
      "0   John   25  New York\n",
      "1  Alice   30    London\n",
      "2    Bob   35     Paris\n"
     ]
    }
   ],
   "source": [
    "import pandas as pd\n",
    "\n",
    "# create a dictionary\n",
    "data = {'Name': ['John', 'Alice', 'Bob'],\n",
    "       'Age': [25, 30, 35],\n",
    "       'City': ['New York', 'London', 'Paris']}\n",
    "\n",
    "# create a dataframe from the dictionary\n",
    "df = pd.DataFrame(data)\n",
    "\n",
    "print(df)"
   ]
  },
  {
   "cell_type": "markdown",
   "id": "cbbde1b4-fadd-4d89-9439-549b2e298496",
   "metadata": {},
   "source": [
    "## Pandas DataFrame Using Python List "
   ]
  },
  {
   "cell_type": "code",
   "execution_count": 25,
   "id": "2fed8cc7-cbef-43ba-a42c-e078307135d3",
   "metadata": {},
   "outputs": [
    {
     "name": "stdout",
     "output_type": "stream",
     "text": [
      "    Name  Age      City\n",
      "0   John   25  New York\n",
      "1  Alice   30    London\n",
      "2    Bob   35     Paris\n"
     ]
    }
   ],
   "source": [
    "import pandas as pd\n",
    "\n",
    "# create a two-dimensional list\n",
    "data = [['John', 25, 'New York'],\n",
    "       ['Alice', 30, 'London'],\n",
    "       ['Bob', 35, 'Paris']]\n",
    "\n",
    "# create a DataFrame from the list\n",
    "df = pd.DataFrame(data, columns=['Name', 'Age', 'City'])\n",
    "\n",
    "print(df)"
   ]
  },
  {
   "cell_type": "markdown",
   "id": "484981ca-3c9c-47b9-9cab-dd65e7793fbc",
   "metadata": {},
   "source": [
    "## Pandas DataFrame From a File "
   ]
  },
  {
   "cell_type": "code",
   "execution_count": 36,
   "id": "acf6f79f-ce40-453e-995d-91d3585d5cc1",
   "metadata": {},
   "outputs": [
    {
     "name": "stdout",
     "output_type": "stream",
     "text": [
      "       Name    Age         City\n",
      "0     John        25   New York\n",
      "1     Alice       30     London\n",
      "2     Bob         35      Paris\n"
     ]
    }
   ],
   "source": [
    "import pandas as pd\n",
    "\n",
    "# load data from a CSV file\n",
    "df = pd.read_csv('data.csv')\n",
    "\n",
    "print(df)"
   ]
  },
  {
   "cell_type": "markdown",
   "id": "721dbff4-323c-4cef-93ba-b47a9ab98c4c",
   "metadata": {},
   "source": [
    "## Create Indexes in Pandas "
   ]
  },
  {
   "cell_type": "markdown",
   "id": "a675d9c3-836f-43e0-99f3-14e45377b8eb",
   "metadata": {},
   "source": [
    "## Default Index"
   ]
  },
  {
   "cell_type": "code",
   "execution_count": 43,
   "id": "e4a26b61-8367-49ae-88ba-a4d086b45136",
   "metadata": {},
   "outputs": [
    {
     "name": "stdout",
     "output_type": "stream",
     "text": [
      "    Name  Age      City\n",
      "0   John   25  New York\n",
      "1  Alice   28    London\n",
      "2    Bob   32     Paris\n"
     ]
    }
   ],
   "source": [
    "import pandas as pd\n",
    "\n",
    "data = {'Name': ['John', 'Alice', 'Bob'],\n",
    "        'Age': [25, 28, 32],\n",
    "        'City': ['New York', 'London', 'Paris']}\n",
    "\n",
    "df = pd.DataFrame(data)\n",
    "print(df)"
   ]
  },
  {
   "cell_type": "markdown",
   "id": "da1a28af-7e6f-414b-a7f0-2d0b63e96363",
   "metadata": {},
   "source": [
    "## Setting Index "
   ]
  },
  {
   "cell_type": "code",
   "execution_count": 46,
   "id": "4d42dbc7-e8ad-4a3b-a3d1-f16b1fefc5d6",
   "metadata": {},
   "outputs": [
    {
     "name": "stdout",
     "output_type": "stream",
     "text": [
      "       Age      City\n",
      "Name                \n",
      "John    25  New York\n",
      "Alice   28    London\n",
      "Bob     32     Paris\n"
     ]
    }
   ],
   "source": [
    "import pandas as pd\n",
    "\n",
    "# create dataframe\n",
    "data = {'Name': ['John', 'Alice', 'Bob'],\n",
    "        'Age': [25, 28, 32],\n",
    "        'City': ['New York', 'London', 'Paris']}\n",
    "\n",
    "df = pd.DataFrame(data)\n",
    "\n",
    "# set the 'Name' column as index\n",
    "df.set_index('Name', inplace=True)\n",
    "\n",
    "print(df)"
   ]
  },
  {
   "cell_type": "markdown",
   "id": "bb287143-2e3f-4405-b02d-d9a975043c9a",
   "metadata": {},
   "source": [
    "## Creating a Range Index "
   ]
  },
  {
   "cell_type": "code",
   "execution_count": 49,
   "id": "5ae24ab0-d3f7-4dd7-8125-c4c785df033d",
   "metadata": {},
   "outputs": [
    {
     "name": "stdout",
     "output_type": "stream",
     "text": [
      "        Name  Age      City\n",
      "Index                      \n",
      "5       John   25  New York\n",
      "6      Alice   28    London\n",
      "7        Bob   32     Paris\n"
     ]
    }
   ],
   "source": [
    "import pandas as pd\n",
    "\n",
    "# create dataframe\n",
    "data = {'Name': ['John', 'Alice', 'Bob'],\n",
    "        'Age': [25, 28, 32],\n",
    "        'City': ['New York', 'London', 'Paris']}\n",
    "\n",
    "df = pd.DataFrame(data)\n",
    "\n",
    "# create a range index\n",
    "df = pd.DataFrame(data, index=pd.RangeIndex(5, 8, name='Index'))\n",
    "\n",
    "print(df)"
   ]
  },
  {
   "cell_type": "markdown",
   "id": "288da779-1517-4845-96dc-077136451fe5",
   "metadata": {},
   "source": [
    "## Modifying Indexes in Pandas "
   ]
  },
  {
   "cell_type": "markdown",
   "id": "fdacd156-2b23-4d83-b33b-8c04f78d9e4d",
   "metadata": {},
   "source": [
    "### Renaming Index "
   ]
  },
  {
   "cell_type": "code",
   "execution_count": 53,
   "id": "f6f9b1c3-141e-4019-91ad-1240860e9139",
   "metadata": {},
   "outputs": [
    {
     "name": "stdout",
     "output_type": "stream",
     "text": [
      "Original DataFrame:\n",
      "    Name  Age      City\n",
      "0   John   25  New York\n",
      "1  Alice   28    London\n",
      "2    Bob   32     Paris\n",
      "\n",
      "Modified DataFrame\n",
      "    Name  Age      City\n",
      "A   John   25  New York\n",
      "B  Alice   28    London\n",
      "C    Bob   32     Paris\n"
     ]
    }
   ],
   "source": [
    "import pandas as pd\n",
    "\n",
    "# create a dataframe\n",
    "data = {'Name': ['John', 'Alice', 'Bob'],\n",
    "        'Age': [25, 28, 32],\n",
    "        'City': ['New York', 'London', 'Paris']}\n",
    "df = pd.DataFrame(data)\n",
    "\n",
    "# display original dataframe\n",
    "print('Original DataFrame:')\n",
    "print(df)\n",
    "print()\n",
    "\n",
    "# rename index\n",
    "df.rename(index={0: 'A', 1: 'B', 2: 'C'}, inplace=True)\n",
    "\n",
    "# display dataframe after index is renamed\n",
    "print('Modified DataFrame')\n",
    "print(df)"
   ]
  },
  {
   "cell_type": "markdown",
   "id": "55ccb866-978a-40a8-9da7-b239aa6f6b79",
   "metadata": {},
   "source": [
    "## Resetting Index "
   ]
  },
  {
   "cell_type": "code",
   "execution_count": 56,
   "id": "70cff28c-2571-4840-899d-183d35d93099",
   "metadata": {},
   "outputs": [
    {
     "name": "stdout",
     "output_type": "stream",
     "text": [
      "Original DataFrame:\n",
      "    Name  Age      City\n",
      "A   John   25  New York\n",
      "B  Alice   28    London\n",
      "C    Bob   32     Paris\n",
      "\n",
      "\n",
      "Modified DataFrame:\n",
      "  index   Name  Age      City\n",
      "0     A   John   25  New York\n",
      "1     B  Alice   28    London\n",
      "2     C    Bob   32     Paris\n"
     ]
    }
   ],
   "source": [
    "import pandas as pd\n",
    "\n",
    "data = {'Name': ['John', 'Alice', 'Bob'],\n",
    "        'Age': [25, 28, 32],\n",
    "        'City': ['New York', 'London', 'Paris']}\n",
    "\n",
    "# create a dataframe\n",
    "df = pd.DataFrame(data)\n",
    "\n",
    "# rename index\n",
    "df.rename(index={0: 'A', 1: 'B', 2: 'C'}, inplace=True)\n",
    "\n",
    "# display dataframe\n",
    "print('Original DataFrame:')\n",
    "print(df)\n",
    "print('\\n')\n",
    "\n",
    "# reset index\n",
    "df.reset_index(inplace=True)\n",
    "\n",
    "# display dataframe after index is reset\n",
    "print('Modified DataFrame:')\n",
    "print(df)"
   ]
  },
  {
   "cell_type": "markdown",
   "id": "64ecc587-1972-4e64-8bf9-010dba338cbc",
   "metadata": {},
   "source": [
    "## Access Rows by Index "
   ]
  },
  {
   "cell_type": "code",
   "execution_count": 60,
   "id": "198c053b-588f-47f3-b082-d15f08020956",
   "metadata": {},
   "outputs": [
    {
     "name": "stdout",
     "output_type": "stream",
     "text": [
      "Name      Bob\n",
      "Age        32\n",
      "City    Paris\n",
      "Name: 2, dtype: object\n"
     ]
    }
   ],
   "source": [
    "import pandas as pd\n",
    "\n",
    "# create a dataframe\n",
    "data = {'Name': ['John', 'Alice', 'Bob'],\n",
    "        'Age': [25, 28, 32],\n",
    "        'City': ['New York', 'London', 'Paris']}\n",
    "\n",
    "df = pd.DataFrame(data)\n",
    "\n",
    "second_row = df.iloc[2]\n",
    "\n",
    "print(second_row)"
   ]
  },
  {
   "cell_type": "markdown",
   "id": "3dafa563-afb8-4d14-bbdd-987a2783c1ec",
   "metadata": {},
   "source": [
    "## Get DataFrame Index "
   ]
  },
  {
   "cell_type": "code",
   "execution_count": 62,
   "id": "87c8b4b2-b8d2-4b17-ae02-4c2cf7c417c3",
   "metadata": {},
   "outputs": [
    {
     "name": "stdout",
     "output_type": "stream",
     "text": [
      "RangeIndex(start=0, stop=3, step=1)\n",
      "[0 1 2]\n"
     ]
    }
   ],
   "source": [
    "import pandas as pd\n",
    "\n",
    "# create a dataframe\n",
    "data = {'Name': ['John', 'Alice', 'Bob'],\n",
    "        'Age': [25, 28, 32],\n",
    "        'City': ['New York', 'London', 'Paris']}\n",
    "\n",
    "df = pd.DataFrame(data)\n",
    "\n",
    "# return index object\n",
    "print(df.index)\n",
    "\n",
    "# return index values\n",
    "print(df.index.values)"
   ]
  },
  {
   "cell_type": "markdown",
   "id": "7a870136-2f72-4dfd-b368-20c9823841cb",
   "metadata": {},
   "source": [
    "## Pandas Array "
   ]
  },
  {
   "cell_type": "markdown",
   "id": "d3ab04ee-18bb-49b7-854b-a8cc218284cc",
   "metadata": {},
   "source": [
    "## Create Array Using Python List "
   ]
  },
  {
   "cell_type": "code",
   "execution_count": 66,
   "id": "a96e5f61-97bb-4cf4-beab-208e2addea3b",
   "metadata": {},
   "outputs": [
    {
     "name": "stdout",
     "output_type": "stream",
     "text": [
      "<IntegerArray>\n",
      "[2, 4, 6, 8]\n",
      "Length: 4, dtype: Int64\n"
     ]
    }
   ],
   "source": [
    "import pandas as pd\n",
    "\n",
    "# create a list named data\n",
    "data = [2, 4, 6, 8]\n",
    "\n",
    "# create Pandas array using data\n",
    "array1 = pd.array(data)\n",
    "\n",
    "print(array1)"
   ]
  },
  {
   "cell_type": "markdown",
   "id": "c3a858ee-da09-49db-b88f-35799b77407d",
   "metadata": {},
   "source": [
    "\n",
    "## Explicitly Specify Array Elements Data Type\n"
   ]
  },
  {
   "cell_type": "code",
   "execution_count": 69,
   "id": "942b88f6-0e6d-4438-92d9-8c0341d33a4b",
   "metadata": {},
   "outputs": [
    {
     "name": "stdout",
     "output_type": "stream",
     "text": [
      "<NumpyExtensionArray>\n",
      "[1, 2, 3, 4, 5]\n",
      "Length: 5, dtype: int32\n",
      "\n",
      "<NumpyExtensionArray>\n",
      "[1.1, 2.2, 3.3, 4.4, 5.5]\n",
      "Length: 5, dtype: float64\n",
      "\n",
      "<NumpyExtensionArray>\n",
      "['apple', 'banana', 'cherry', 'date']\n",
      "Length: 4, dtype: str192\n",
      "\n",
      "<NumpyExtensionArray>\n",
      "[True, False, True, False]\n",
      "Length: 4, dtype: bool\n",
      "\n"
     ]
    }
   ],
   "source": [
    "import pandas as pd\n",
    "\n",
    "# creating a pandas.array of integers\n",
    "int_array = pd.array([1, 2, 3, 4, 5], dtype='int')\n",
    "print(int_array)\n",
    "print()\n",
    "\n",
    "# creating a pandas.array of floating-point numbers\n",
    "float_array = pd.array([1.1, 2.2, 3.3, 4.4, 5.5], dtype='float')\n",
    "print(float_array)\n",
    "print()\n",
    "\n",
    "# creating a pandas.array of strings\n",
    "string_array = pd.array(['apple', 'banana', 'cherry', 'date'], dtype='str')\n",
    "print(string_array)\n",
    "print()\n",
    "\n",
    "# creating a pandas.array of boolean values\n",
    "bool_array = pd.array([True, False, True, False], dtype='bool')\n",
    "print(bool_array)\n",
    "print()"
   ]
  },
  {
   "cell_type": "markdown",
   "id": "2808767f-4cb4-4fd3-8ccd-7ee77a4638a7",
   "metadata": {},
   "source": [
    "## Create Series From Pandas Array "
   ]
  },
  {
   "cell_type": "code",
   "execution_count": 72,
   "id": "80e225d7-6885-40a5-8f59-d7c568b6a5d8",
   "metadata": {},
   "outputs": [
    {
     "name": "stdout",
     "output_type": "stream",
     "text": [
      "0    12\n",
      "1    13\n",
      "2    14\n",
      "3    15\n",
      "4    16\n",
      "5    17\n",
      "6    18\n",
      "dtype: Int64\n"
     ]
    }
   ],
   "source": [
    "import pandas as pd\n",
    "\n",
    "\n",
    "arr= pd.array([12,13,14,15,16,17,18])\n",
    "\n",
    "arrr_ser = pd.Series(arr)\n",
    "print(arrr_ser)"
   ]
  },
  {
   "cell_type": "code",
   "execution_count": null,
   "id": "397d5a49-b9fb-4092-b0e4-b5f4368b47fe",
   "metadata": {},
   "outputs": [],
   "source": []
  }
 ],
 "metadata": {
  "kernelspec": {
   "display_name": "Python 3 (ipykernel)",
   "language": "python",
   "name": "python3"
  },
  "language_info": {
   "codemirror_mode": {
    "name": "ipython",
    "version": 3
   },
   "file_extension": ".py",
   "mimetype": "text/x-python",
   "name": "python",
   "nbconvert_exporter": "python",
   "pygments_lexer": "ipython3",
   "version": "3.11.7"
  }
 },
 "nbformat": 4,
 "nbformat_minor": 5
}
